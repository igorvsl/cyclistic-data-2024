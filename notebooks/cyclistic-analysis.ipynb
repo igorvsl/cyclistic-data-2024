{
 "cells": [
  {
   "cell_type": "code",
   "execution_count": 1,
   "id": "29673314",
   "metadata": {
    "_execution_state": "idle",
    "_uuid": "051d70d956493feee0c6d64651c6a088724dca2a",
    "execution": {
     "iopub.execute_input": "2025-03-15T03:19:54.262147Z",
     "iopub.status.busy": "2025-03-15T03:19:54.260034Z",
     "iopub.status.idle": "2025-03-15T03:19:54.422014Z",
     "shell.execute_reply": "2025-03-15T03:19:54.420126Z"
    },
    "papermill": {
     "duration": 0.170889,
     "end_time": "2025-03-15T03:19:54.424555",
     "exception": false,
     "start_time": "2025-03-15T03:19:54.253666",
     "status": "completed"
    },
    "tags": [],
    "vscode": {
     "languageId": "r"
    }
   },
   "outputs": [],
   "source": [
    "#Have you ever wondered how a bike-sharing company can turn data into strategic decisions to attract more riders? In this case study, you’ll step into the shoes of a junior data analyst and conduct a comprehensive analysis for a fictional bike-sharing company. The goal? Uncover actionable insights that drive rapid success!\n",
    "\n",
    "#Throughout this project, you’ll follow the six steps of the data analysis process: Ask, Prepare, Process, Analyze, Share, and Act. Each step includes practical, real-world tasks like exploring datasets, cleaning data, identifying patterns, and presenting findings—everything a data analyst does daily."
   ]
  },
  {
   "cell_type": "code",
   "execution_count": 2,
   "id": "b055010a",
   "metadata": {
    "execution": {
     "iopub.execute_input": "2025-03-15T03:19:54.464609Z",
     "iopub.status.busy": "2025-03-15T03:19:54.434112Z",
     "iopub.status.idle": "2025-03-15T03:19:54.486011Z",
     "shell.execute_reply": "2025-03-15T03:19:54.484268Z"
    },
    "papermill": {
     "duration": 0.060061,
     "end_time": "2025-03-15T03:19:54.488461",
     "exception": false,
     "start_time": "2025-03-15T03:19:54.428400",
     "status": "completed"
    },
    "tags": [],
    "vscode": {
     "languageId": "r"
    }
   },
   "outputs": [
    {
     "data": {
      "text/html": [
       "'cyclistic-data-2024'"
      ],
      "text/latex": [
       "'cyclistic-data-2024'"
      ],
      "text/markdown": [
       "'cyclistic-data-2024'"
      ],
      "text/plain": [
       "[1] \"cyclistic-data-2024\""
      ]
     },
     "metadata": {},
     "output_type": "display_data"
    }
   ],
   "source": [
    "dir(\"/kaggle/input/\")"
   ]
  },
  {
   "cell_type": "code",
   "execution_count": 3,
   "id": "9540d1ac",
   "metadata": {
    "execution": {
     "iopub.execute_input": "2025-03-15T03:19:54.500009Z",
     "iopub.status.busy": "2025-03-15T03:19:54.498431Z",
     "iopub.status.idle": "2025-03-15T03:22:22.326285Z",
     "shell.execute_reply": "2025-03-15T03:22:22.324444Z"
    },
    "papermill": {
     "duration": 147.836803,
     "end_time": "2025-03-15T03:22:22.329592",
     "exception": false,
     "start_time": "2025-03-15T03:19:54.492789",
     "status": "completed"
    },
    "tags": [],
    "vscode": {
     "languageId": "r"
    }
   },
   "outputs": [],
   "source": [
    "filtered_data <- read.csv(\"/kaggle/input/cyclistic-data-2024/cyclistic_filtered_data.csv\", stringsAsFactors = FALSE)"
   ]
  },
  {
   "cell_type": "code",
   "execution_count": 4,
   "id": "ff69d438",
   "metadata": {
    "execution": {
     "iopub.execute_input": "2025-03-15T03:22:22.349671Z",
     "iopub.status.busy": "2025-03-15T03:22:22.348127Z",
     "iopub.status.idle": "2025-03-15T03:22:22.387326Z",
     "shell.execute_reply": "2025-03-15T03:22:22.385569Z"
    },
    "papermill": {
     "duration": 0.055745,
     "end_time": "2025-03-15T03:22:22.389733",
     "exception": false,
     "start_time": "2025-03-15T03:22:22.333988",
     "status": "completed"
    },
    "tags": [],
    "vscode": {
     "languageId": "r"
    }
   },
   "outputs": [
    {
     "data": {
      "text/html": [
       "<table class=\"dataframe\">\n",
       "<caption>A data.frame: 6 × 17</caption>\n",
       "<thead>\n",
       "\t<tr><th></th><th scope=col>ride_id</th><th scope=col>rideable_type</th><th scope=col>started_at</th><th scope=col>ended_at</th><th scope=col>start_station_name</th><th scope=col>start_station_id</th><th scope=col>end_station_name</th><th scope=col>end_station_id</th><th scope=col>start_lat</th><th scope=col>start_lng</th><th scope=col>end_lat</th><th scope=col>end_lng</th><th scope=col>member_casual</th><th scope=col>trip_duration</th><th scope=col>day_of_week</th><th scope=col>hour_of_day</th><th scope=col>period_of_day</th></tr>\n",
       "\t<tr><th></th><th scope=col>&lt;chr&gt;</th><th scope=col>&lt;chr&gt;</th><th scope=col>&lt;chr&gt;</th><th scope=col>&lt;chr&gt;</th><th scope=col>&lt;chr&gt;</th><th scope=col>&lt;chr&gt;</th><th scope=col>&lt;chr&gt;</th><th scope=col>&lt;chr&gt;</th><th scope=col>&lt;dbl&gt;</th><th scope=col>&lt;dbl&gt;</th><th scope=col>&lt;dbl&gt;</th><th scope=col>&lt;dbl&gt;</th><th scope=col>&lt;chr&gt;</th><th scope=col>&lt;dbl&gt;</th><th scope=col>&lt;chr&gt;</th><th scope=col>&lt;int&gt;</th><th scope=col>&lt;chr&gt;</th></tr>\n",
       "</thead>\n",
       "<tbody>\n",
       "\t<tr><th scope=row>1</th><td>C9BD54F578F57246</td><td>electric_bike</td><td>2023-12-02 18:44:01</td><td>2023-12-02 18:47:51</td><td></td><td></td><td></td><td></td><td>41.92</td><td>-87.66</td><td>41.92</td><td>-87.66</td><td>member</td><td> 3.833333</td><td>Saturday</td><td>18</td><td>Evening  </td></tr>\n",
       "\t<tr><th scope=row>2</th><td>CDBD92F067FA620E</td><td>electric_bike</td><td>2023-12-02 18:48:19</td><td>2023-12-02 18:54:48</td><td></td><td></td><td></td><td></td><td>41.92</td><td>-87.66</td><td>41.89</td><td>-87.64</td><td>member</td><td> 6.483333</td><td>Saturday</td><td>18</td><td>Evening  </td></tr>\n",
       "\t<tr><th scope=row>3</th><td>ABC0858E52CBFC84</td><td>electric_bike</td><td>2023-12-24 01:56:32</td><td>2023-12-24 02:04:09</td><td></td><td></td><td></td><td></td><td>41.89</td><td>-87.62</td><td>41.90</td><td>-87.64</td><td>member</td><td> 7.616667</td><td>Sunday  </td><td> 1</td><td>Night    </td></tr>\n",
       "\t<tr><th scope=row>4</th><td>F44B6F0E8F76DC90</td><td>electric_bike</td><td>2023-12-24 10:58:12</td><td>2023-12-24 11:03:04</td><td></td><td></td><td></td><td></td><td>41.95</td><td>-87.65</td><td>41.94</td><td>-87.65</td><td>member</td><td> 4.866667</td><td>Sunday  </td><td>10</td><td>Morning  </td></tr>\n",
       "\t<tr><th scope=row>5</th><td>3C876413281A90DF</td><td>electric_bike</td><td>2023-12-24 12:43:16</td><td>2023-12-24 12:44:57</td><td></td><td></td><td></td><td></td><td>41.92</td><td>-87.64</td><td>41.93</td><td>-87.64</td><td>member</td><td> 1.683333</td><td>Sunday  </td><td>12</td><td>Afternoon</td></tr>\n",
       "\t<tr><th scope=row>6</th><td>28C0D6EFB81E1769</td><td>electric_bike</td><td>2023-12-24 13:59:57</td><td>2023-12-24 14:10:57</td><td></td><td></td><td></td><td></td><td>41.91</td><td>-87.63</td><td>41.88</td><td>-87.65</td><td>member</td><td>11.000000</td><td>Sunday  </td><td>13</td><td>Afternoon</td></tr>\n",
       "</tbody>\n",
       "</table>\n"
      ],
      "text/latex": [
       "A data.frame: 6 × 17\n",
       "\\begin{tabular}{r|lllllllllllllllll}\n",
       "  & ride\\_id & rideable\\_type & started\\_at & ended\\_at & start\\_station\\_name & start\\_station\\_id & end\\_station\\_name & end\\_station\\_id & start\\_lat & start\\_lng & end\\_lat & end\\_lng & member\\_casual & trip\\_duration & day\\_of\\_week & hour\\_of\\_day & period\\_of\\_day\\\\\n",
       "  & <chr> & <chr> & <chr> & <chr> & <chr> & <chr> & <chr> & <chr> & <dbl> & <dbl> & <dbl> & <dbl> & <chr> & <dbl> & <chr> & <int> & <chr>\\\\\n",
       "\\hline\n",
       "\t1 & C9BD54F578F57246 & electric\\_bike & 2023-12-02 18:44:01 & 2023-12-02 18:47:51 &  &  &  &  & 41.92 & -87.66 & 41.92 & -87.66 & member &  3.833333 & Saturday & 18 & Evening  \\\\\n",
       "\t2 & CDBD92F067FA620E & electric\\_bike & 2023-12-02 18:48:19 & 2023-12-02 18:54:48 &  &  &  &  & 41.92 & -87.66 & 41.89 & -87.64 & member &  6.483333 & Saturday & 18 & Evening  \\\\\n",
       "\t3 & ABC0858E52CBFC84 & electric\\_bike & 2023-12-24 01:56:32 & 2023-12-24 02:04:09 &  &  &  &  & 41.89 & -87.62 & 41.90 & -87.64 & member &  7.616667 & Sunday   &  1 & Night    \\\\\n",
       "\t4 & F44B6F0E8F76DC90 & electric\\_bike & 2023-12-24 10:58:12 & 2023-12-24 11:03:04 &  &  &  &  & 41.95 & -87.65 & 41.94 & -87.65 & member &  4.866667 & Sunday   & 10 & Morning  \\\\\n",
       "\t5 & 3C876413281A90DF & electric\\_bike & 2023-12-24 12:43:16 & 2023-12-24 12:44:57 &  &  &  &  & 41.92 & -87.64 & 41.93 & -87.64 & member &  1.683333 & Sunday   & 12 & Afternoon\\\\\n",
       "\t6 & 28C0D6EFB81E1769 & electric\\_bike & 2023-12-24 13:59:57 & 2023-12-24 14:10:57 &  &  &  &  & 41.91 & -87.63 & 41.88 & -87.65 & member & 11.000000 & Sunday   & 13 & Afternoon\\\\\n",
       "\\end{tabular}\n"
      ],
      "text/markdown": [
       "\n",
       "A data.frame: 6 × 17\n",
       "\n",
       "| <!--/--> | ride_id &lt;chr&gt; | rideable_type &lt;chr&gt; | started_at &lt;chr&gt; | ended_at &lt;chr&gt; | start_station_name &lt;chr&gt; | start_station_id &lt;chr&gt; | end_station_name &lt;chr&gt; | end_station_id &lt;chr&gt; | start_lat &lt;dbl&gt; | start_lng &lt;dbl&gt; | end_lat &lt;dbl&gt; | end_lng &lt;dbl&gt; | member_casual &lt;chr&gt; | trip_duration &lt;dbl&gt; | day_of_week &lt;chr&gt; | hour_of_day &lt;int&gt; | period_of_day &lt;chr&gt; |\n",
       "|---|---|---|---|---|---|---|---|---|---|---|---|---|---|---|---|---|---|\n",
       "| 1 | C9BD54F578F57246 | electric_bike | 2023-12-02 18:44:01 | 2023-12-02 18:47:51 | <!----> | <!----> | <!----> | <!----> | 41.92 | -87.66 | 41.92 | -87.66 | member |  3.833333 | Saturday | 18 | Evening   |\n",
       "| 2 | CDBD92F067FA620E | electric_bike | 2023-12-02 18:48:19 | 2023-12-02 18:54:48 | <!----> | <!----> | <!----> | <!----> | 41.92 | -87.66 | 41.89 | -87.64 | member |  6.483333 | Saturday | 18 | Evening   |\n",
       "| 3 | ABC0858E52CBFC84 | electric_bike | 2023-12-24 01:56:32 | 2023-12-24 02:04:09 | <!----> | <!----> | <!----> | <!----> | 41.89 | -87.62 | 41.90 | -87.64 | member |  7.616667 | Sunday   |  1 | Night     |\n",
       "| 4 | F44B6F0E8F76DC90 | electric_bike | 2023-12-24 10:58:12 | 2023-12-24 11:03:04 | <!----> | <!----> | <!----> | <!----> | 41.95 | -87.65 | 41.94 | -87.65 | member |  4.866667 | Sunday   | 10 | Morning   |\n",
       "| 5 | 3C876413281A90DF | electric_bike | 2023-12-24 12:43:16 | 2023-12-24 12:44:57 | <!----> | <!----> | <!----> | <!----> | 41.92 | -87.64 | 41.93 | -87.64 | member |  1.683333 | Sunday   | 12 | Afternoon |\n",
       "| 6 | 28C0D6EFB81E1769 | electric_bike | 2023-12-24 13:59:57 | 2023-12-24 14:10:57 | <!----> | <!----> | <!----> | <!----> | 41.91 | -87.63 | 41.88 | -87.65 | member | 11.000000 | Sunday   | 13 | Afternoon |\n",
       "\n"
      ],
      "text/plain": [
       "  ride_id          rideable_type started_at          ended_at           \n",
       "1 C9BD54F578F57246 electric_bike 2023-12-02 18:44:01 2023-12-02 18:47:51\n",
       "2 CDBD92F067FA620E electric_bike 2023-12-02 18:48:19 2023-12-02 18:54:48\n",
       "3 ABC0858E52CBFC84 electric_bike 2023-12-24 01:56:32 2023-12-24 02:04:09\n",
       "4 F44B6F0E8F76DC90 electric_bike 2023-12-24 10:58:12 2023-12-24 11:03:04\n",
       "5 3C876413281A90DF electric_bike 2023-12-24 12:43:16 2023-12-24 12:44:57\n",
       "6 28C0D6EFB81E1769 electric_bike 2023-12-24 13:59:57 2023-12-24 14:10:57\n",
       "  start_station_name start_station_id end_station_name end_station_id start_lat\n",
       "1                                                                     41.92    \n",
       "2                                                                     41.92    \n",
       "3                                                                     41.89    \n",
       "4                                                                     41.95    \n",
       "5                                                                     41.92    \n",
       "6                                                                     41.91    \n",
       "  start_lng end_lat end_lng member_casual trip_duration day_of_week hour_of_day\n",
       "1 -87.66    41.92   -87.66  member         3.833333     Saturday    18         \n",
       "2 -87.66    41.89   -87.64  member         6.483333     Saturday    18         \n",
       "3 -87.62    41.90   -87.64  member         7.616667     Sunday       1         \n",
       "4 -87.65    41.94   -87.65  member         4.866667     Sunday      10         \n",
       "5 -87.64    41.93   -87.64  member         1.683333     Sunday      12         \n",
       "6 -87.63    41.88   -87.65  member        11.000000     Sunday      13         \n",
       "  period_of_day\n",
       "1 Evening      \n",
       "2 Evening      \n",
       "3 Night        \n",
       "4 Morning      \n",
       "5 Afternoon    \n",
       "6 Afternoon    "
      ]
     },
     "metadata": {},
     "output_type": "display_data"
    }
   ],
   "source": [
    "head(filtered_data)"
   ]
  },
  {
   "cell_type": "code",
   "execution_count": 5,
   "id": "9ae3dba2",
   "metadata": {
    "execution": {
     "iopub.execute_input": "2025-03-15T03:22:22.402267Z",
     "iopub.status.busy": "2025-03-15T03:22:22.400715Z",
     "iopub.status.idle": "2025-03-15T03:23:06.051616Z",
     "shell.execute_reply": "2025-03-15T03:23:06.049817Z"
    },
    "papermill": {
     "duration": 43.66092,
     "end_time": "2025-03-15T03:23:06.054988",
     "exception": false,
     "start_time": "2025-03-15T03:22:22.394068",
     "status": "completed"
    },
    "tags": [],
    "vscode": {
     "languageId": "r"
    }
   },
   "outputs": [
    {
     "name": "stderr",
     "output_type": "stream",
     "text": [
      "Installing package into ‘/usr/local/lib/R/site-library’\n",
      "(as ‘lib’ is unspecified)\n",
      "\n"
     ]
    },
    {
     "name": "stderr",
     "output_type": "stream",
     "text": [
      "Installing package into ‘/usr/local/lib/R/site-library’\n",
      "(as ‘lib’ is unspecified)\n",
      "\n"
     ]
    },
    {
     "name": "stderr",
     "output_type": "stream",
     "text": [
      "\n",
      "Attaching package: ‘dplyr’\n",
      "\n",
      "\n"
     ]
    },
    {
     "name": "stderr",
     "output_type": "stream",
     "text": [
      "The following objects are masked from ‘package:stats’:\n",
      "\n",
      "    filter, lag\n",
      "\n",
      "\n"
     ]
    },
    {
     "name": "stderr",
     "output_type": "stream",
     "text": [
      "The following objects are masked from ‘package:base’:\n",
      "\n",
      "    intersect, setdiff, setequal, union\n",
      "\n",
      "\n"
     ]
    },
    {
     "name": "stderr",
     "output_type": "stream",
     "text": [
      "\n",
      "Attaching package: ‘lubridate’\n",
      "\n",
      "\n"
     ]
    },
    {
     "name": "stderr",
     "output_type": "stream",
     "text": [
      "The following objects are masked from ‘package:base’:\n",
      "\n",
      "    date, intersect, setdiff, union\n",
      "\n",
      "\n"
     ]
    }
   ],
   "source": [
    "install.packages(\"dplyr\")\n",
    "install.packages(\"lubridate\")\n",
    "library(dplyr)\n",
    "library(lubridate)"
   ]
  },
  {
   "cell_type": "code",
   "execution_count": 6,
   "id": "5d4b9461",
   "metadata": {
    "execution": {
     "iopub.execute_input": "2025-03-15T03:23:06.070025Z",
     "iopub.status.busy": "2025-03-15T03:23:06.067904Z",
     "iopub.status.idle": "2025-03-15T03:23:15.234755Z",
     "shell.execute_reply": "2025-03-15T03:23:15.232883Z"
    },
    "papermill": {
     "duration": 9.1769,
     "end_time": "2025-03-15T03:23:15.238324",
     "exception": false,
     "start_time": "2025-03-15T03:23:06.061424",
     "status": "completed"
    },
    "tags": [],
    "vscode": {
     "languageId": "r"
    }
   },
   "outputs": [],
   "source": [
    "#Filter Data\n",
    "\n",
    "filtered_data <- filtered_data %>%\n",
    "  filter(trip_duration >= 1 & trip_duration <= 1440) # 1440 min = 24 hrs"
   ]
  },
  {
   "cell_type": "code",
   "execution_count": 7,
   "id": "ea1f5776",
   "metadata": {
    "execution": {
     "iopub.execute_input": "2025-03-15T03:23:15.252035Z",
     "iopub.status.busy": "2025-03-15T03:23:15.250447Z",
     "iopub.status.idle": "2025-03-15T03:23:15.993320Z",
     "shell.execute_reply": "2025-03-15T03:23:15.990960Z"
    },
    "papermill": {
     "duration": 0.752468,
     "end_time": "2025-03-15T03:23:15.996356",
     "exception": false,
     "start_time": "2025-03-15T03:23:15.243888",
     "status": "completed"
    },
    "tags": [],
    "vscode": {
     "languageId": "r"
    }
   },
   "outputs": [
    {
     "name": "stdout",
     "output_type": "stream",
     "text": [
      "\u001b[90m# A tibble: 2 × 6\u001b[39m\n",
      "  member_casual avg_duration median_duration min_duration max_duration\n",
      "  \u001b[3m\u001b[90m<chr>\u001b[39m\u001b[23m                \u001b[3m\u001b[90m<dbl>\u001b[39m\u001b[23m           \u001b[3m\u001b[90m<dbl>\u001b[39m\u001b[23m        \u001b[3m\u001b[90m<dbl>\u001b[39m\u001b[23m        \u001b[3m\u001b[90m<dbl>\u001b[39m\u001b[23m\n",
      "\u001b[90m1\u001b[39m casual                21.4           12.3             1        \u001b[4m1\u001b[24m440.\n",
      "\u001b[90m2\u001b[39m member                12.3            8.78            1        \u001b[4m1\u001b[24m440.\n",
      "\u001b[90m# ℹ 1 more variable: total_trips <int>\u001b[39m\n"
     ]
    }
   ],
   "source": [
    "#Next Steps for Analysis\n",
    "\n",
    "summary_stats <- filtered_data %>%\n",
    "  group_by(member_casual) %>%\n",
    "  summarise(\n",
    "    avg_duration = mean(trip_duration, na.rm = TRUE),\n",
    "    median_duration = median(trip_duration, na.rm = TRUE),\n",
    "    min_duration = min(trip_duration, na.rm = TRUE),\n",
    "    max_duration = max(trip_duration, na.rm = TRUE),\n",
    "    total_trips = n()\n",
    "  )\n",
    "print(summary_stats)"
   ]
  },
  {
   "cell_type": "code",
   "execution_count": 8,
   "id": "cce0bec0",
   "metadata": {
    "execution": {
     "iopub.execute_input": "2025-03-15T03:23:16.009013Z",
     "iopub.status.busy": "2025-03-15T03:23:16.007396Z",
     "iopub.status.idle": "2025-03-15T03:23:17.867274Z",
     "shell.execute_reply": "2025-03-15T03:23:17.864832Z"
    },
    "papermill": {
     "duration": 1.869764,
     "end_time": "2025-03-15T03:23:17.870543",
     "exception": false,
     "start_time": "2025-03-15T03:23:16.000779",
     "status": "completed"
    },
    "tags": [],
    "vscode": {
     "languageId": "r"
    }
   },
   "outputs": [
    {
     "name": "stderr",
     "output_type": "stream",
     "text": [
      "\u001b[1m\u001b[22m`summarise()` has grouped output by 'member_casual'. You can override using the\n",
      "`.groups` argument.\n"
     ]
    },
    {
     "name": "stdout",
     "output_type": "stream",
     "text": [
      "\u001b[90m# A tibble: 14 × 3\u001b[39m\n",
      "\u001b[90m# Groups:   member_casual [2]\u001b[39m\n",
      "   member_casual day_of_week trip_count\n",
      "   \u001b[3m\u001b[90m<chr>\u001b[39m\u001b[23m         \u001b[3m\u001b[90m<chr>\u001b[39m\u001b[23m            \u001b[3m\u001b[90m<int>\u001b[39m\u001b[23m\n",
      "\u001b[90m 1\u001b[39m casual        Friday          \u001b[4m3\u001b[24m\u001b[4m1\u001b[24m\u001b[4m4\u001b[24m503\n",
      "\u001b[90m 2\u001b[39m member        Friday          \u001b[4m5\u001b[24m\u001b[4m4\u001b[24m\u001b[4m4\u001b[24m859\n",
      "\u001b[90m 3\u001b[39m casual        Monday          \u001b[4m2\u001b[24m\u001b[4m5\u001b[24m\u001b[4m0\u001b[24m802\n",
      "\u001b[90m 4\u001b[39m member        Monday          \u001b[4m5\u001b[24m\u001b[4m4\u001b[24m\u001b[4m6\u001b[24m743\n",
      "\u001b[90m 5\u001b[39m casual        Saturday        \u001b[4m4\u001b[24m\u001b[4m3\u001b[24m\u001b[4m8\u001b[24m837\n",
      "\u001b[90m 6\u001b[39m member        Saturday        \u001b[4m4\u001b[24m\u001b[4m9\u001b[24m\u001b[4m2\u001b[24m215\n",
      "\u001b[90m 7\u001b[39m casual        Sunday          \u001b[4m3\u001b[24m\u001b[4m6\u001b[24m\u001b[4m4\u001b[24m129\n",
      "\u001b[90m 8\u001b[39m member        Sunday          \u001b[4m4\u001b[24m\u001b[4m2\u001b[24m\u001b[4m6\u001b[24m908\n",
      "\u001b[90m 9\u001b[39m casual        Thursday        \u001b[4m2\u001b[24m\u001b[4m6\u001b[24m\u001b[4m3\u001b[24m942\n",
      "\u001b[90m10\u001b[39m member        Thursday        \u001b[4m5\u001b[24m\u001b[4m8\u001b[24m\u001b[4m8\u001b[24m803\n",
      "\u001b[90m11\u001b[39m casual        Tuesday         \u001b[4m2\u001b[24m\u001b[4m3\u001b[24m\u001b[4m0\u001b[24m663\n",
      "\u001b[90m12\u001b[39m member        Tuesday         \u001b[4m5\u001b[24m\u001b[4m8\u001b[24m\u001b[4m3\u001b[24m727\n",
      "\u001b[90m13\u001b[39m casual        Wednesday       \u001b[4m2\u001b[24m\u001b[4m6\u001b[24m\u001b[4m7\u001b[24m586\n",
      "\u001b[90m14\u001b[39m member        Wednesday       \u001b[4m6\u001b[24m\u001b[4m2\u001b[24m\u001b[4m6\u001b[24m604\n"
     ]
    }
   ],
   "source": [
    "#Analyze Usage Patterns\n",
    "\n",
    "usage_by_day <- filtered_data %>%\n",
    "  group_by(member_casual, day_of_week) %>%\n",
    "  summarise(trip_count = n()) %>%\n",
    "  arrange(day_of_week)\n",
    "print(usage_by_day)"
   ]
  },
  {
   "cell_type": "code",
   "execution_count": 9,
   "id": "3c0c4908",
   "metadata": {
    "execution": {
     "iopub.execute_input": "2025-03-15T03:23:17.883632Z",
     "iopub.status.busy": "2025-03-15T03:23:17.882001Z",
     "iopub.status.idle": "2025-03-15T03:23:18.081141Z",
     "shell.execute_reply": "2025-03-15T03:23:18.078731Z"
    },
    "papermill": {
     "duration": 0.208813,
     "end_time": "2025-03-15T03:23:18.084038",
     "exception": false,
     "start_time": "2025-03-15T03:23:17.875225",
     "status": "completed"
    },
    "tags": [],
    "vscode": {
     "languageId": "r"
    }
   },
   "outputs": [
    {
     "name": "stderr",
     "output_type": "stream",
     "text": [
      "\u001b[1m\u001b[22m`summarise()` has grouped output by 'member_casual'. You can override using the\n",
      "`.groups` argument.\n"
     ]
    },
    {
     "name": "stdout",
     "output_type": "stream",
     "text": [
      "\u001b[90m# A tibble: 48 × 3\u001b[39m\n",
      "\u001b[90m# Groups:   member_casual [2]\u001b[39m\n",
      "   member_casual hour_of_day trip_count\n",
      "   \u001b[3m\u001b[90m<chr>\u001b[39m\u001b[23m               \u001b[3m\u001b[90m<int>\u001b[39m\u001b[23m      \u001b[3m\u001b[90m<int>\u001b[39m\u001b[23m\n",
      "\u001b[90m 1\u001b[39m casual                  0      \u001b[4m3\u001b[24m\u001b[4m4\u001b[24m911\n",
      "\u001b[90m 2\u001b[39m casual                  1      \u001b[4m2\u001b[24m\u001b[4m3\u001b[24m402\n",
      "\u001b[90m 3\u001b[39m casual                  2      \u001b[4m1\u001b[24m\u001b[4m4\u001b[24m508\n",
      "\u001b[90m 4\u001b[39m casual                  3       \u001b[4m8\u001b[24m069\n",
      "\u001b[90m 5\u001b[39m casual                  4       \u001b[4m6\u001b[24m347\n",
      "\u001b[90m 6\u001b[39m casual                  5      \u001b[4m1\u001b[24m\u001b[4m2\u001b[24m214\n",
      "\u001b[90m 7\u001b[39m casual                  6      \u001b[4m2\u001b[24m\u001b[4m8\u001b[24m930\n",
      "\u001b[90m 8\u001b[39m casual                  7      \u001b[4m5\u001b[24m\u001b[4m3\u001b[24m837\n",
      "\u001b[90m 9\u001b[39m casual                  8      \u001b[4m7\u001b[24m\u001b[4m6\u001b[24m072\n",
      "\u001b[90m10\u001b[39m casual                  9      \u001b[4m7\u001b[24m\u001b[4m6\u001b[24m433\n",
      "\u001b[90m# ℹ 38 more rows\u001b[39m\n"
     ]
    }
   ],
   "source": [
    "#Usage by Time of Day\n",
    "\n",
    "usage_by_hour <- filtered_data %>%\n",
    "  group_by(member_casual, hour_of_day) %>%\n",
    "  summarise(trip_count = n())\n",
    "print(usage_by_hour)"
   ]
  },
  {
   "cell_type": "code",
   "execution_count": 10,
   "id": "159d4fb8",
   "metadata": {
    "execution": {
     "iopub.execute_input": "2025-03-15T03:23:18.096938Z",
     "iopub.status.busy": "2025-03-15T03:23:18.095297Z",
     "iopub.status.idle": "2025-03-15T03:23:18.130539Z",
     "shell.execute_reply": "2025-03-15T03:23:18.128129Z"
    },
    "papermill": {
     "duration": 0.044796,
     "end_time": "2025-03-15T03:23:18.133469",
     "exception": false,
     "start_time": "2025-03-15T03:23:18.088673",
     "status": "completed"
    },
    "tags": [],
    "vscode": {
     "languageId": "r"
    }
   },
   "outputs": [
    {
     "name": "stdout",
     "output_type": "stream",
     "text": [
      "\u001b[90m# A tibble: 2 × 2\u001b[39m\n",
      "  member_casual media_trip_count\n",
      "  \u001b[3m\u001b[90m<chr>\u001b[39m\u001b[23m                    \u001b[3m\u001b[90m<dbl>\u001b[39m\u001b[23m\n",
      "\u001b[90m1\u001b[39m casual                 \u001b[4m3\u001b[24m\u001b[4m0\u001b[24m\u001b[4m4\u001b[24m352.\n",
      "\u001b[90m2\u001b[39m member                 \u001b[4m5\u001b[24m\u001b[4m4\u001b[24m\u001b[4m4\u001b[24m266.\n"
     ]
    }
   ],
   "source": [
    "media_by_group <- usage_by_day %>%\n",
    "  group_by(member_casual) %>%\n",
    "  summarise(media_trip_count = mean(trip_count))\n",
    "print(media_by_group)"
   ]
  },
  {
   "cell_type": "code",
   "execution_count": 11,
   "id": "df081fb9",
   "metadata": {
    "execution": {
     "iopub.execute_input": "2025-03-15T03:23:18.146928Z",
     "iopub.status.busy": "2025-03-15T03:23:18.145286Z",
     "iopub.status.idle": "2025-03-15T03:23:18.400935Z",
     "shell.execute_reply": "2025-03-15T03:23:18.398575Z"
    },
    "papermill": {
     "duration": 0.265526,
     "end_time": "2025-03-15T03:23:18.403896",
     "exception": false,
     "start_time": "2025-03-15T03:23:18.138370",
     "status": "completed"
    },
    "tags": [],
    "vscode": {
     "languageId": "r"
    }
   },
   "outputs": [
    {
     "name": "stderr",
     "output_type": "stream",
     "text": [
      "\u001b[1m\u001b[22m`summarise()` has grouped output by 'member_casual'. You can override using the\n",
      "`.groups` argument.\n"
     ]
    },
    {
     "name": "stdout",
     "output_type": "stream",
     "text": [
      "\u001b[90m# A tibble: 6 × 4\u001b[39m\n",
      "\u001b[90m# Groups:   member_casual [2]\u001b[39m\n",
      "  member_casual rideable_type    trip_count proportion\n",
      "  \u001b[3m\u001b[90m<chr>\u001b[39m\u001b[23m         \u001b[3m\u001b[90m<chr>\u001b[39m\u001b[23m                 \u001b[3m\u001b[90m<int>\u001b[39m\u001b[23m      \u001b[3m\u001b[90m<dbl>\u001b[39m\u001b[23m\n",
      "\u001b[90m1\u001b[39m casual        classic_bike         \u001b[4m9\u001b[24m\u001b[4m8\u001b[24m\u001b[4m5\u001b[24m090     0.462 \n",
      "\u001b[90m2\u001b[39m casual        electric_bike       1\u001b[4m0\u001b[24m\u001b[4m6\u001b[24m\u001b[4m3\u001b[24m922     0.499 \n",
      "\u001b[90m3\u001b[39m casual        electric_scooter      \u001b[4m8\u001b[24m\u001b[4m1\u001b[24m450     0.038\u001b[4m2\u001b[24m\n",
      "\u001b[90m4\u001b[39m member        classic_bike        1\u001b[4m8\u001b[24m\u001b[4m3\u001b[24m\u001b[4m2\u001b[24m333     0.481 \n",
      "\u001b[90m5\u001b[39m member        electric_bike       1\u001b[4m9\u001b[24m\u001b[4m2\u001b[24m\u001b[4m1\u001b[24m392     0.504 \n",
      "\u001b[90m6\u001b[39m member        electric_scooter      \u001b[4m5\u001b[24m\u001b[4m6\u001b[24m134     0.014\u001b[4m7\u001b[24m\n"
     ]
    }
   ],
   "source": [
    "#Usage by Bike Type\n",
    "\n",
    "bike_type_usage <- filtered_data %>%\n",
    "  group_by(member_casual, rideable_type) %>%\n",
    "  summarise(trip_count = n()) %>%\n",
    "  mutate(proportion = trip_count / sum(trip_count))\n",
    "print(bike_type_usage)"
   ]
  },
  {
   "cell_type": "code",
   "execution_count": 12,
   "id": "a586a8dc",
   "metadata": {
    "execution": {
     "iopub.execute_input": "2025-03-15T03:23:18.417600Z",
     "iopub.status.busy": "2025-03-15T03:23:18.415951Z",
     "iopub.status.idle": "2025-03-15T03:23:18.450942Z",
     "shell.execute_reply": "2025-03-15T03:23:18.448628Z"
    },
    "papermill": {
     "duration": 0.04505,
     "end_time": "2025-03-15T03:23:18.453931",
     "exception": false,
     "start_time": "2025-03-15T03:23:18.408881",
     "status": "completed"
    },
    "tags": [],
    "vscode": {
     "languageId": "r"
    }
   },
   "outputs": [
    {
     "name": "stdout",
     "output_type": "stream",
     "text": [
      "\u001b[90m# A tibble: 2 × 2\u001b[39m\n",
      "  member_casual media_trip_count\n",
      "  \u001b[3m\u001b[90m<chr>\u001b[39m\u001b[23m                    \u001b[3m\u001b[90m<dbl>\u001b[39m\u001b[23m\n",
      "\u001b[90m1\u001b[39m casual                  \u001b[4m8\u001b[24m\u001b[4m8\u001b[24m769.\n",
      "\u001b[90m2\u001b[39m member                 \u001b[4m1\u001b[24m\u001b[4m5\u001b[24m\u001b[4m8\u001b[24m744.\n"
     ]
    }
   ],
   "source": [
    "average_per_hour_group <- usage_by_hour %>%\n",
    "  group_by(member_casual) %>%\n",
    "  summarise(media_trip_count = mean(trip_count))\n",
    "print(average_per_hour_group)"
   ]
  },
  {
   "cell_type": "code",
   "execution_count": 13,
   "id": "74dc41c0",
   "metadata": {
    "execution": {
     "iopub.execute_input": "2025-03-15T03:23:18.467583Z",
     "iopub.status.busy": "2025-03-15T03:23:18.465939Z",
     "iopub.status.idle": "2025-03-15T03:23:18.479899Z",
     "shell.execute_reply": "2025-03-15T03:23:18.478063Z"
    },
    "papermill": {
     "duration": 0.024044,
     "end_time": "2025-03-15T03:23:18.483054",
     "exception": false,
     "start_time": "2025-03-15T03:23:18.459010",
     "status": "completed"
    },
    "tags": [],
    "vscode": {
     "languageId": "r"
    }
   },
   "outputs": [],
   "source": [
    "#What to look for:\n",
    " # Days of the week: Members may ride more Average trips per weekday:Casual: 304,352 trips per day.Member: 544,266 trips per day.\n",
    "#Comparison: Annual members make almost 1.8 times more trips\n",
    "#Times of day: Peak hoursAverage trips per hour of the day:\n",
    "#Casual: 88,769 trips per hour.\n",
    "#Member: 158,744 trips per hour.\n",
    "#Comparison: Again, members make about 1.8 times more trips per hour.\n",
    "#Type of bike: See if there is a preference for e-bikes or classic bikes in each group."
   ]
  },
  {
   "cell_type": "code",
   "execution_count": 14,
   "id": "a5a6ea81",
   "metadata": {
    "execution": {
     "iopub.execute_input": "2025-03-15T03:23:18.497216Z",
     "iopub.status.busy": "2025-03-15T03:23:18.495428Z",
     "iopub.status.idle": "2025-03-15T03:23:43.417931Z",
     "shell.execute_reply": "2025-03-15T03:23:43.416055Z"
    },
    "papermill": {
     "duration": 24.933487,
     "end_time": "2025-03-15T03:23:43.421692",
     "exception": false,
     "start_time": "2025-03-15T03:23:18.488205",
     "status": "completed"
    },
    "tags": [],
    "vscode": {
     "languageId": "r"
    }
   },
   "outputs": [
    {
     "name": "stderr",
     "output_type": "stream",
     "text": [
      "Installing package into ‘/usr/local/lib/R/site-library’\n",
      "(as ‘lib’ is unspecified)\n",
      "\n"
     ]
    }
   ],
   "source": [
    "#Visualize Data\n",
    "\n",
    "install.packages(\"ggplot2\")\n",
    "library(ggplot2)"
   ]
  },
  {
   "cell_type": "code",
   "execution_count": 15,
   "id": "502fd8aa",
   "metadata": {
    "execution": {
     "iopub.execute_input": "2025-03-15T03:23:43.436620Z",
     "iopub.status.busy": "2025-03-15T03:23:43.434986Z",
     "iopub.status.idle": "2025-03-15T03:23:44.032061Z",
     "shell.execute_reply": "2025-03-15T03:23:44.029150Z"
    },
    "papermill": {
     "duration": 0.60761,
     "end_time": "2025-03-15T03:23:44.035295",
     "exception": false,
     "start_time": "2025-03-15T03:23:43.427685",
     "status": "completed"
    },
    "tags": [],
    "vscode": {
     "languageId": "r"
    }
   },
   "outputs": [
    {
     "data": {
      "image/png": "[encoded data removed]"
     },
     "metadata": {
      "image/png": {
       "height": 420,
       "width": 420
      }
     },
     "output_type": "display_data"
    }
   ],
   "source": [
    "#Usage Chart by Day of the Week\n",
    "\n",
    "ggplot(usage_by_day, aes(x = day_of_week, y = trip_count, fill = member_casual)) +\n",
    "  geom_bar(stat = \"identity\", position = \"dodge\") +\n",
    "  labs(title = \"Usage by Day of the Week\", x = \"Day of the Week\", y = \"Number of Routes\") +\n",
    "  theme_minimal()"
   ]
  },
  {
   "cell_type": "code",
   "execution_count": 16,
   "id": "6d24370c",
   "metadata": {
    "execution": {
     "iopub.execute_input": "2025-03-15T03:23:44.051416Z",
     "iopub.status.busy": "2025-03-15T03:23:44.049746Z",
     "iopub.status.idle": "2025-03-15T03:23:44.615397Z",
     "shell.execute_reply": "2025-03-15T03:23:44.612576Z"
    },
    "papermill": {
     "duration": 0.577483,
     "end_time": "2025-03-15T03:23:44.618801",
     "exception": false,
     "start_time": "2025-03-15T03:23:44.041318",
     "status": "completed"
    },
    "tags": [],
    "vscode": {
     "languageId": "r"
    }
   },
   "outputs": [
    {
     "data": {
      "image/png": "[encoded data removed]"
     },
     "metadata": {
      "image/png": {
       "height": 420,
       "width": 420
      }
     },
     "output_type": "display_data"
    }
   ],
   "source": [
    "#Usage Chart by Time of Day\n",
    "\n",
    "ggplot(usage_by_hour, aes(x = hour_of_day, y = trip_count, color = member_casual)) +\n",
    "  geom_line() +\n",
    "  labs(title = \"Usage by Time of Day\", x = \"Time of Day\", y = \"Number of Routes\") +\n",
    "  theme_minimal()"
   ]
  }
 ],
 "metadata": {
  "kaggle": {
   "accelerator": "none",
   "dataSources": [
    {
     "datasetId": 6823438,
     "sourceId": 10966994,
     "sourceType": "datasetVersion"
    }
   ],
   "dockerImageVersionId": 30749,
   "isGpuEnabled": false,
   "isInternetEnabled": true,
   "language": "r",
   "sourceType": "notebook"
  },
  "kernelspec": {
   "display_name": "R",
   "language": "R",
   "name": "ir"
  },
  "language_info": {
   "codemirror_mode": "r",
   "file_extension": ".r",
   "mimetype": "text/x-r-source",
   "name": "R",
   "pygments_lexer": "r",
   "version": "4.4.0"
  },
  "papermill": {
   "default_parameters": {},
   "duration": 234.409418,
   "end_time": "2025-03-15T03:23:45.051088",
   "environment_variables": {},
   "exception": null,
   "input_path": "__notebook__.ipynb",
   "output_path": "__notebook__.ipynb",
   "parameters": {},
   "start_time": "2025-03-15T03:19:50.641670",
   "version": "2.6.0"
  }
 },
 "nbformat": 4,
 "nbformat_minor": 5
}
